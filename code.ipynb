{
 "cells": [
  {
   "cell_type": "code",
   "execution_count": 23,
   "metadata": {},
   "outputs": [],
   "source": [
    "from transformers import DetrImageProcessor, DetrForObjectDetection\n",
    "import torch\n",
    "from PIL import Image"
   ]
  },
  {
   "cell_type": "code",
   "execution_count": 24,
   "metadata": {},
   "outputs": [],
   "source": [
    "processor = DetrImageProcessor.from_pretrained(\"facebook/detr-resnet-50\", revision=\"no_timm\")\n",
    "model = DetrForObjectDetection.from_pretrained(\"facebook/detr-resnet-50\", revision=\"no_timm\")"
   ]
  },
  {
   "cell_type": "code",
   "execution_count": 25,
   "metadata": {},
   "outputs": [],
   "source": [
    "\n",
    "image1 = Image.open(\"./ipr2bf01815-fig-0004-m.jpg\")\n",
    "image2 = Image.open(\"./cute-animals-other-objects_1308-104277.jpg\")\n",
    "image3 = Image.open(\"./1aOqEspE6kOwzW49V0vYpCQ.webp\")"
   ]
  },
  {
   "cell_type": "code",
   "execution_count": 26,
   "metadata": {},
   "outputs": [],
   "source": [
    "inputs1 = processor(images=image1, return_tensors=\"pt\")\n",
    "outputs1 = model(**inputs1)\n",
    "\n",
    "inputs2 = processor(images=image2, return_tensors=\"pt\")\n",
    "outputs2 = model(**inputs2)\n",
    "\n",
    "inputs3 = processor(images=image3, return_tensors=\"pt\")\n",
    "outputs3 = model(**inputs3)"
   ]
  },
  {
   "cell_type": "code",
   "execution_count": 27,
   "metadata": {},
   "outputs": [
    {
     "name": "stdout",
     "output_type": "stream",
     "text": [
      "Detected bird with confidence 0.993 at location [634.56, 77.75, 867.22, 238.67]\n",
      "Detected person with confidence 0.991 at location [1560.48, 638.52, 1731.96, 866.79]\n",
      "Detected bird with confidence 0.53 at location [95.23, 76.4, 277.73, 249.04]\n",
      "Detected bird with confidence 0.985 at location [1281.45, 990.79, 1455.43, 1088.19]\n",
      "Detected bird with confidence 0.997 at location [1549.96, 71.59, 1751.94, 258.5]\n",
      "Detected bird with confidence 0.996 at location [943.77, 81.87, 1152.68, 232.77]\n",
      "Detected apple with confidence 0.994 at location [656.39, 665.85, 852.52, 870.37]\n",
      "Detected bird with confidence 0.998 at location [1246.86, 70.21, 1452.7, 257.44]\n",
      "Detected motorcycle with confidence 0.58 at location [650.04, 984.51, 860.3, 1096.39]\n",
      "Detected bird with confidence 0.549 at location [406.06, 78.91, 570.56, 249.65]\n",
      "Detected potted plant with confidence 0.509 at location [47.45, 335.95, 286.25, 588.95]\n",
      "Detected bird with confidence 0.975 at location [1551.72, 988.48, 1743.85, 1091.68]\n",
      "Detected apple with confidence 0.988 at location [957.11, 666.35, 1147.02, 868.95]\n",
      "Detected person with confidence 0.995 at location [1285.02, 638.31, 1436.91, 856.63]\n"
     ]
    }
   ],
   "source": [
    "target_sizes = torch.tensor([image1.size[::-1]])\n",
    "results = processor.post_process_object_detection(outputs1, target_sizes=target_sizes, threshold=0.5)[0]\n",
    "\n",
    "for score, label, box in zip(results[\"scores\"], results[\"labels\"], results[\"boxes\"]):\n",
    "    box = [round(i, 2) for i in box.tolist()]\n",
    "    print(\n",
    "            f\"Detected {model.config.id2label[label.item()]} with confidence \"\n",
    "            f\"{round(score.item(), 3)} at location {box}\"\n",
    "    )"
   ]
  },
  {
   "cell_type": "code",
   "execution_count": 28,
   "metadata": {},
   "outputs": [
    {
     "name": "stdout",
     "output_type": "stream",
     "text": [
      "Detected kite with confidence 0.542 at location [143.79, 241.55, 248.42, 345.71]\n",
      "Detected cake with confidence 0.941 at location [10.86, 4.81, 626.09, 349.18]\n",
      "Detected kite with confidence 0.745 at location [517.17, 239.9, 614.51, 345.44]\n",
      "Detected kite with confidence 0.922 at location [355.5, 239.85, 494.96, 343.5]\n"
     ]
    }
   ],
   "source": [
    "target_sizes = torch.tensor([image2.size[::-1]])\n",
    "results = processor.post_process_object_detection(outputs2, target_sizes=target_sizes, threshold=0.5)[0]\n",
    "\n",
    "for score, label, box in zip(results[\"scores\"], results[\"labels\"], results[\"boxes\"]):\n",
    "    box = [round(i, 2) for i in box.tolist()]\n",
    "    print(\n",
    "            f\"Detected {model.config.id2label[label.item()]} with confidence \"\n",
    "            f\"{round(score.item(), 3)} at location {box}\"\n",
    "    )"
   ]
  },
  {
   "cell_type": "code",
   "execution_count": 30,
   "metadata": {},
   "outputs": [
    {
     "name": "stdout",
     "output_type": "stream",
     "text": [
      "Detected traffic light with confidence 0.763 at location [87.54, 1710.41, 141.97, 1769.29]\n",
      "Detected traffic light with confidence 0.619 at location [1397.48, 756.04, 1446.39, 810.65]\n",
      "Detected traffic light with confidence 0.681 at location [1341.54, 1908.36, 1389.83, 1956.99]\n",
      "Detected person with confidence 0.913 at location [1683.33, 1967.26, 1712.61, 2046.6]\n",
      "Detected person with confidence 0.836 at location [1822.92, 1970.76, 1855.79, 2046.79]\n",
      "Detected car with confidence 0.809 at location [1306.84, 1973.05, 1389.62, 2032.97]\n",
      "Detected car with confidence 0.562 at location [180.72, 702.11, 477.67, 936.4]\n",
      "Detected person with confidence 0.509 at location [1619.63, 816.31, 1656.78, 873.18]\n",
      "Detected person with confidence 0.931 at location [1762.05, 1969.6, 1794.89, 2048.25]\n",
      "Detected person with confidence 0.875 at location [1775.03, 1970.96, 1805.77, 2049.95]\n",
      "Detected person with confidence 0.928 at location [1734.5, 1970.5, 1766.79, 2049.56]\n",
      "Detected fire hydrant with confidence 0.865 at location [2196.46, 1995.83, 2242.87, 2104.78]\n",
      "Detected car with confidence 0.715 at location [1473.01, 849.35, 1549.24, 922.82]\n",
      "Detected person with confidence 0.912 at location [1620.19, 1962.71, 1648.6, 2039.27]\n",
      "Detected traffic light with confidence 0.855 at location [44.2, 1247.46, 84.14, 1332.43]\n",
      "Detected car with confidence 0.876 at location [1242.93, 1967.92, 1338.41, 2030.77]\n",
      "Detected fire hydrant with confidence 0.599 at location [392.52, 1940.37, 432.69, 2018.18]\n",
      "Detected person with confidence 0.818 at location [1926.73, 1969.29, 1959.47, 2040.25]\n",
      "Detected person with confidence 0.818 at location [1890.83, 1970.86, 1923.84, 2041.9]\n",
      "Detected traffic light with confidence 0.997 at location [638.92, 1502.94, 716.99, 1594.79]\n",
      "Detected person with confidence 0.718 at location [1545.5, 819.44, 1583.27, 880.13]\n",
      "Detected traffic light with confidence 0.996 at location [1987.54, 158.19, 2072.16, 313.67]\n",
      "Detected car with confidence 0.981 at location [952.8, 1929.84, 1087.65, 2033.93]\n",
      "Detected car with confidence 0.993 at location [935.48, 808.94, 1094.36, 916.14]\n",
      "Detected person with confidence 0.639 at location [1694.76, 1967.29, 1726.32, 2040.94]\n",
      "Detected person with confidence 0.746 at location [1525.75, 1949.96, 1557.57, 2012.15]\n",
      "Detected traffic light with confidence 0.847 at location [1023.23, 1768.94, 1053.74, 1821.3]\n",
      "Detected traffic light with confidence 0.706 at location [1022.77, 627.49, 1058.11, 689.05]\n",
      "Detected person with confidence 0.654 at location [1579.94, 818.46, 1615.92, 877.2]\n",
      "Detected car with confidence 0.705 at location [1078.17, 1950.8, 1173.52, 2038.94]\n",
      "Detected traffic light with confidence 0.954 at location [419.68, 1814.7, 455.45, 1858.82]\n",
      "Detected car with confidence 0.992 at location [1272.3, 842.65, 1394.83, 919.46]\n",
      "Detected traffic light with confidence 0.998 at location [624.65, 339.97, 707.63, 465.81]\n",
      "Detected traffic light with confidence 0.981 at location [68.75, 568.53, 129.64, 643.46]\n",
      "Detected car with confidence 0.995 at location [-0.49, 731.43, 476.29, 986.14]\n",
      "Detected traffic light with confidence 0.986 at location [2336.53, 1624.76, 2385.88, 1745.5]\n",
      "Detected person with confidence 0.5 at location [1447.25, 1940.74, 1491.46, 1998.89]\n",
      "Detected person with confidence 0.542 at location [1550.33, 1951.91, 1580.8, 2015.15]\n",
      "Detected person with confidence 0.927 at location [1647.44, 1963.6, 1675.84, 2042.92]\n",
      "Detected person with confidence 0.843 at location [1633.65, 1966.78, 1661.39, 2042.9]\n",
      "Detected person with confidence 0.918 at location [1676.82, 1966.01, 1705.8, 2045.17]\n",
      "Detected person with confidence 0.726 at location [1989.76, 1986.37, 2022.62, 2050.49]\n",
      "Detected traffic light with confidence 0.574 at location [1343.8, 760.38, 1395.81, 816.65]\n",
      "Detected person with confidence 0.764 at location [1969.99, 1991.93, 2001.55, 2052.59]\n",
      "Detected person with confidence 0.631 at location [2009.15, 1990.67, 2040.47, 2053.23]\n",
      "Detected car with confidence 0.994 at location [1417.37, 855.74, 1528.5, 925.6]\n",
      "Detected car with confidence 0.621 at location [1311.0, 1970.08, 1391.94, 2030.41]\n",
      "Detected person with confidence 0.732 at location [1509.39, 1942.77, 1544.19, 2003.38]\n",
      "Detected traffic light with confidence 0.997 at location [1956.82, 1301.19, 2044.49, 1465.96]\n",
      "Detected person with confidence 0.736 at location [1585.8, 1960.11, 1614.42, 2028.63]\n",
      "Detected person with confidence 0.799 at location [1549.05, 1946.63, 1580.99, 2006.31]\n",
      "Detected car with confidence 0.951 at location [1400.98, 1971.9, 1507.38, 2037.74]\n",
      "Detected traffic light with confidence 0.785 at location [403.02, 684.14, 437.36, 726.02]\n",
      "Detected traffic light with confidence 0.826 at location [1478.53, 664.72, 1530.64, 734.68]\n",
      "Detected person with confidence 0.836 at location [1700.36, 1968.21, 1728.96, 2046.66]\n",
      "Detected person with confidence 0.583 at location [1472.03, 837.22, 1528.26, 907.09]\n"
     ]
    }
   ],
   "source": [
    "target_sizes = torch.tensor([image3.size[::-1]])\n",
    "results = processor.post_process_object_detection(outputs3, target_sizes=target_sizes, threshold=0.5)[0]\n",
    "\n",
    "for score, label, box in zip(results[\"scores\"], results[\"labels\"], results[\"boxes\"]):\n",
    "    box = [round(i, 2) for i in box.tolist()]\n",
    "    print(\n",
    "            f\"Detected {model.config.id2label[label.item()]} with confidence \"\n",
    "            f\"{round(score.item(), 3)} at location {box}\"\n",
    "    )"
   ]
  }
 ],
 "metadata": {
  "kernelspec": {
   "display_name": "base",
   "language": "python",
   "name": "python3"
  },
  "language_info": {
   "codemirror_mode": {
    "name": "ipython",
    "version": 3
   },
   "file_extension": ".py",
   "mimetype": "text/x-python",
   "name": "python",
   "nbconvert_exporter": "python",
   "pygments_lexer": "ipython3",
   "version": "3.11.4"
  }
 },
 "nbformat": 4,
 "nbformat_minor": 2
}
